{
 "cells": [
  {
   "cell_type": "markdown",
   "id": "3c57bd04",
   "metadata": {},
   "source": [
    "## Requirements\n",
    "\n",
    "Run the following setup script first."
   ]
  },
  {
   "cell_type": "code",
   "execution_count": null,
   "id": "914ee8a2",
   "metadata": {},
   "outputs": [],
   "source": [
    "from pathlib import Path\n",
    "\n",
    "if 'google.colab' in str(get_ipython()) and not Path('/content/data').is_dir(): # we only need to run this once\n",
    "    !wget -q -O /content/setup.sh https://raw.githubusercontent.com/solita/ivves-machine-spraak/main/setup.sh\n",
    "    !bash /content/setup.sh\n",
    "else:\n",
    "    print('This notebook is only meant to be run in Google Colab.')"
   ]
  },
  {
   "cell_type": "markdown",
   "id": "3d34679b-81a7-4316-9bd1-a85a2d77acc9",
   "metadata": {},
   "source": [
    "# Exploratory Analysis of Machine Audio Data"
   ]
  },
  {
   "cell_type": "code",
   "execution_count": null,
   "id": "80ebf8de-a7c9-4073-a3c8-f37fe93c7f49",
   "metadata": {},
   "outputs": [],
   "source": [
    "import numpy as np\n",
    "import matplotlib.pyplot as plt\n",
    "from scipy import signal\n",
    "from scipy.io import wavfile\n",
    "from math import ceil\n",
    "import librosa, librosa.display\n",
    "\n",
    "import modules.utils as utl\n",
    "\n",
    "data_folder = Path('/content/data/converted/')\n",
    "sample_rate, samples, names = utl.load_data(data_folder, channel=0)\n",
    "print(names)"
   ]
  },
  {
   "cell_type": "markdown",
   "id": "578b6c97-7c8f-4b7d-8a15-13392aa06dcf",
   "metadata": {},
   "source": [
    "Some of the audio clips in our dataset contain stereo channels. In `utl.load_data` we decide how to convert these to mono for further processing (channel=0 or 1 correspond to keeping only the left or right channel respectively, while -1 takes the mean of the two). For our data it's dangerous to combine the channels since the phases of the signals are perfectly out of sync and thus cancel out:"
   ]
  },
  {
   "cell_type": "code",
   "execution_count": null,
   "id": "c5b5ff31-fb51-4940-9a25-6be0eba9ed6a",
   "metadata": {},
   "outputs": [],
   "source": [
    "begin, window = 0, 5000\n",
    "tmp_rate, tmp_sample = wavfile.read(data_folder / 'ZOOM0005_Tr34.WAV')\n",
    "plt.figure(figsize=(8,3))\n",
    "y=tmp_sample[begin:begin+window,:]\n",
    "plt.plot(utl.times_like(y), y, alpha=0.5)\n",
    "plt.title('Snapshot of the waveform from a stereo audio clip.')\n",
    "plt.show()"
   ]
  },
  {
   "cell_type": "markdown",
   "id": "50077850-47a2-4a1e-8c58-b091a9dd21ba",
   "metadata": {},
   "source": [
    "## Waves"
   ]
  },
  {
   "cell_type": "code",
   "execution_count": null,
   "id": "a95ed27b-6201-4a4e-b0a4-e3b747a1f0dd",
   "metadata": {},
   "outputs": [],
   "source": [
    "fig, axs = plt.subplots(4, 2, figsize=(14,8))\n",
    "fig.tight_layout(pad=1.5, rect=[0, 0.03, 1, 0.95])\n",
    "\n",
    "xs = [utl.times_like(s, sample_rate) for s in samples]\n",
    "\n",
    "for n, ax in enumerate(axs.flat):\n",
    "    ax.plot(xs[n], samples[n])\n",
    "    ax.set_title(names[n])\n",
    "plt.show()"
   ]
  },
  {
   "cell_type": "markdown",
   "id": "1119d93b-9204-4339-a6c2-a11c72b5a5ec",
   "metadata": {},
   "source": [
    "## Spectrograms\n",
    "\n",
    "Spectrograms are typically constructed by considering the Fourier transform of the input signal in a short window and then plotting the coefficients of the resultant frequencies versus time as a heatmap. See <https://docs.scipy.org/doc/scipy/reference/generated/scipy.signal.spectrogram.html> for more details.\n",
    "\n",
    "If you are interested in the mathematical formulation of a spectrogram and the (discrete) Fourier transform, then a short explanation is available [here](https://www.princeton.edu/~cuff/ele201/files/spectrogram.pdf)."
   ]
  },
  {
   "cell_type": "code",
   "execution_count": null,
   "id": "80fed1c1-f4eb-4128-b7d4-50cc93439ae6",
   "metadata": {},
   "outputs": [],
   "source": [
    "show_sample = samples[7]\n",
    "names[7]"
   ]
  },
  {
   "cell_type": "code",
   "execution_count": null,
   "id": "e653154c-97b9-45de-a364-8b8e77453bda",
   "metadata": {},
   "outputs": [],
   "source": [
    "utl.plot_spec(show_sample, sample_rate)"
   ]
  },
  {
   "cell_type": "markdown",
   "id": "34f7cde4-aa92-4311-acdf-17cebdcb0999",
   "metadata": {},
   "source": [
    "We can also investigate the autocorrelation of the input signal with the help of spectrograms."
   ]
  },
  {
   "cell_type": "code",
   "execution_count": null,
   "id": "2f34f8e4-1ce6-4b9f-bfd0-13d3181715d3",
   "metadata": {},
   "outputs": [],
   "source": [
    "fig, axs = plt.subplots(3, 2, figsize=(16,10), sharex=True)\n",
    "for i in range(6):\n",
    "    ax=(axs.flat)[i]\n",
    "    utl.plot_spec(np.diff(show_sample, n=i+1), sample_rate, ax=ax)\n",
    "    ax.set_xlabel(''); ax.set_ylabel('')\n",
    "    ax.set_title(f'lag={i+1}')"
   ]
  },
  {
   "cell_type": "markdown",
   "id": "f64985d3-c248-44e1-9664-c62084005874",
   "metadata": {
    "tags": []
   },
   "source": [
    "## Other spectral plots\n",
    "\n",
    "\n",
    "### Periodogram\n",
    "\n",
    "Not so useful for this particular data. <https://docs.scipy.org/doc/scipy/reference/generated/scipy.signal.periodogram.html>"
   ]
  },
  {
   "cell_type": "code",
   "execution_count": null,
   "id": "90561b73-5573-4741-8cfb-7edb6fa879e4",
   "metadata": {},
   "outputs": [],
   "source": [
    "freqs, spec = signal.periodogram(show_sample, sample_rate, window='flattop', scaling='spectrum')\n",
    "fig = plt.figure(figsize=(18, 5))\n",
    "ax = fig.add_subplot(111)\n",
    "p = ax.semilogy(freqs, spec)\n",
    "ax.set_ylabel('Frequency (Hz)')\n",
    "ax.set_xlabel('Time (frames)')\n",
    "plt.show()"
   ]
  },
  {
   "cell_type": "code",
   "execution_count": null,
   "id": "25e870c4-a2d5-4f4a-beb4-f45cb4c5e7e0",
   "metadata": {},
   "outputs": [],
   "source": [
    "freqs, spec = signal.welch(show_sample, sample_rate, scaling='spectrum')\n",
    "fig = plt.figure(figsize=(18, 5))\n",
    "ax = fig.add_subplot(111)\n",
    "p = ax.semilogy(freqs, spec)\n",
    "ax.set_ylabel('Frequency (Hz)')\n",
    "ax.set_xlabel('Time (frames)')\n",
    "plt.show()"
   ]
  },
  {
   "cell_type": "markdown",
   "id": "12965527-21bf-4e55-8270-9a3b7a885acb",
   "metadata": {},
   "source": [
    "### Mel Spectrogram\n",
    "<https://librosa.org/doc/main/generated/librosa.feature.melspectrogram.html#librosa.feature.melspectrogram>"
   ]
  },
  {
   "cell_type": "code",
   "execution_count": null,
   "id": "8ae7b205-7284-43c1-976f-57dbe4ea2793",
   "metadata": {},
   "outputs": [],
   "source": [
    "lib_sample = show_sample.astype(np.float32)"
   ]
  },
  {
   "cell_type": "code",
   "execution_count": null,
   "id": "da54721c-5ed6-4c60-b57c-c4bfa6094120",
   "metadata": {},
   "outputs": [],
   "source": [
    "mel = librosa.feature.melspectrogram(y=lib_sample, sr=sample_rate)\n",
    "mel_dB = librosa.power_to_db(mel, ref=np.max)\n",
    "fig, ax = plt.subplots(figsize=(18,5))\n",
    "img = librosa.display.specshow(mel_dB, y_axis='mel', x_axis='time', ax=ax)\n",
    "fig.colorbar(img, ax=ax)\n",
    "plt.show()"
   ]
  },
  {
   "cell_type": "markdown",
   "id": "865dadc5-7d32-4dc4-b69d-a630c720fac1",
   "metadata": {},
   "source": [
    "### MFCC\n",
    "<https://librosa.org/doc/main/generated/librosa.feature.mfcc.html#librosa.feature.mfcc>"
   ]
  },
  {
   "cell_type": "code",
   "execution_count": null,
   "id": "d777080a-fa3f-4381-aab5-6bdf741b12c9",
   "metadata": {},
   "outputs": [],
   "source": [
    "mfcc = librosa.feature.mfcc(y=lib_sample, sr=sample_rate, hop_length=2**12, dct_type=2)\n",
    "fig, ax = plt.subplots(figsize=(18,5))\n",
    "img = librosa.display.specshow(mfcc, x_axis='time', ax=ax)\n",
    "fig.colorbar(img, ax=ax)\n",
    "plt.show()"
   ]
  },
  {
   "cell_type": "markdown",
   "id": "bb9a8e1a-9558-46a2-8c88-62cda7ee49c1",
   "metadata": {},
   "source": [
    "### RMS Energy\n",
    "<https://librosa.org/doc/main/generated/librosa.feature.rms.html#librosa.feature.rms>"
   ]
  },
  {
   "cell_type": "code",
   "execution_count": null,
   "id": "0b349877-b894-4840-8cf3-f339da7560e0",
   "metadata": {},
   "outputs": [],
   "source": [
    "rms = librosa.feature.rms(y=lib_sample)\n",
    "fig, ax = plt.subplots(figsize=(18,5))\n",
    "ax.semilogy(librosa.times_like(rms), rms[0])\n",
    "plt.show()"
   ]
  },
  {
   "cell_type": "markdown",
   "id": "aef6f8c6-c17a-4c25-91fb-9db926bfddb5",
   "metadata": {},
   "source": [
    "### Spectral Centroid\n",
    "<https://librosa.org/doc/main/generated/librosa.feature.spectral_centroid.html#librosa.feature.spectral_centroid>"
   ]
  },
  {
   "cell_type": "code",
   "execution_count": null,
   "id": "9c805c59-ac47-4e21-a61c-b9cf074c74a6",
   "metadata": {},
   "outputs": [],
   "source": [
    "cent = librosa.feature.spectral_centroid(y=lib_sample, sr=sample_rate)\n",
    "S, phase = librosa.magphase(librosa.stft(y=lib_sample))\n",
    "fig, ax = plt.subplots(figsize=(18,5))\n",
    "librosa.display.specshow(librosa.amplitude_to_db(S, ref=np.max),\n",
    "                         y_axis='log', x_axis='time', ax=ax)\n",
    "ax.plot(librosa.times_like(cent), cent.T, label='Spectral centroid', color='w')\n",
    "plt.show()"
   ]
  },
  {
   "cell_type": "markdown",
   "id": "2475de42-bedd-45b7-8aa7-fbee65f8c41b",
   "metadata": {},
   "source": [
    "### Spectral Contrast\n",
    "<https://librosa.org/doc/main/generated/librosa.feature.spectral_contrast.html#librosa.feature.spectral_contrast>"
   ]
  },
  {
   "cell_type": "code",
   "execution_count": null,
   "id": "bc83b562-6da1-41fc-8436-fc8797d3d04e",
   "metadata": {},
   "outputs": [],
   "source": [
    "S = np.abs(librosa.stft(lib_sample))\n",
    "contrast = librosa.feature.spectral_contrast(S=S, sr=sample_rate)\n",
    "fig, ax = plt.subplots(figsize=(18,5))\n",
    "img = librosa.display.specshow(contrast, x_axis='time', ax=ax)\n",
    "fig.colorbar(img, ax=ax)\n",
    "ax.set_ylabel('Frequency bands')\n",
    "plt.show()"
   ]
  },
  {
   "cell_type": "markdown",
   "id": "30aa6c07-c87f-498a-a295-0987c3c982fa",
   "metadata": {},
   "source": [
    "### Zero-crossing rate (ZCR)\n",
    "\n",
    "ZCR measures how often the input signal crosses zero (so in some sense it's related to the average wavelength). This is one possible feature we can use. What is the appropriate window for computing the rate of change? (smoothness vs. precision)"
   ]
  },
  {
   "cell_type": "code",
   "execution_count": null,
   "id": "0b7236c0-51f2-4357-9ba9-64b6b0d91d81",
   "metadata": {},
   "outputs": [],
   "source": [
    "fig, (ax1, ax2) = plt.subplots(2, 1, figsize=(16,7))\n",
    "ax1.plot(samples[7])\n",
    "ax2.plot(utl.zero_cross_rate(show_sample, window=2000))\n",
    "fig.suptitle(f'Audio signal and the corresponding ZCR for part of {names[7]}')\n",
    "plt.show()"
   ]
  }
 ],
 "metadata": {
  "kernelspec": {
   "display_name": "Python 3 (ipykernel)",
   "language": "python",
   "name": "python3"
  },
  "language_info": {
   "codemirror_mode": {
    "name": "ipython",
    "version": 3
   },
   "file_extension": ".py",
   "mimetype": "text/x-python",
   "name": "python",
   "nbconvert_exporter": "python",
   "pygments_lexer": "ipython3",
   "version": "3.9.7"
  }
 },
 "nbformat": 4,
 "nbformat_minor": 5
}
